{
 "cells": [
  {
   "cell_type": "code",
   "execution_count": 4,
   "id": "cbf4e9be",
   "metadata": {},
   "outputs": [
    {
     "data": {
      "text/plain": [
       "array([[ 1,  2,  3],\n",
       "       [ 4,  5,  6],\n",
       "       [11, 12, 13],\n",
       "       [14, 15, 16],\n",
       "       [17, 18, 19],\n",
       "       [20, 21, 22]])"
      ]
     },
     "execution_count": 4,
     "metadata": {},
     "output_type": "execute_result"
    }
   ],
   "source": [
    "import numpy as np\n",
    "\n",
    "a = np.array([[1,2,3],[4,5,6]])\n",
    "b = np.array([[11,12,13],[14,15,16]])\n",
    "c = np.array([[17,18,19],[20,21,22]])\n",
    "\n",
    "np.concatenate([a,b])\n",
    "np.concatenate([b,c])\n",
    "np.concatenate([a,b,c])"
   ]
  },
  {
   "cell_type": "code",
   "execution_count": 6,
   "id": "fccfe1a1",
   "metadata": {},
   "outputs": [
    {
     "data": {
      "text/plain": [
       "(array([[1, 2, 3],\n",
       "        [4, 5, 6]]),\n",
       " array([[11, 12, 13],\n",
       "        [14, 15, 16]]),\n",
       " array([[17, 18, 19],\n",
       "        [20, 21, 22]]),\n",
       " array([[ 1,  2,  3, 11, 12, 13, 17, 18, 19],\n",
       "        [ 4,  5,  6, 14, 15, 16, 20, 21, 22]]),\n",
       " array([[ 1,  2,  3],\n",
       "        [ 4,  5,  6],\n",
       "        [11, 12, 13],\n",
       "        [14, 15, 16],\n",
       "        [17, 18, 19],\n",
       "        [20, 21, 22]]))"
      ]
     },
     "execution_count": 6,
     "metadata": {},
     "output_type": "execute_result"
    }
   ],
   "source": [
    "d = np.concatenate([a,b,c], axis = 1) # 1 refers to column wise\n",
    "e = np.concatenate([a,b,c], axis = 0) # 0 refers to row wise\n",
    "\n",
    "a,b,c,d,e\n"
   ]
  },
  {
   "cell_type": "code",
   "execution_count": 7,
   "id": "71ed7837",
   "metadata": {},
   "outputs": [
    {
     "data": {
      "text/plain": [
       "array([[[ 1,  2,  3],\n",
       "        [ 4,  5,  6]],\n",
       "\n",
       "       [[11, 12, 13],\n",
       "        [14, 15, 16]],\n",
       "\n",
       "       [[17, 18, 19],\n",
       "        [20, 21, 22]]])"
      ]
     },
     "execution_count": 7,
     "metadata": {},
     "output_type": "execute_result"
    }
   ],
   "source": [
    "import numpy as np\n",
    "\n",
    "a = np.array([[1,2,3],[4,5,6]])\n",
    "b = np.array([[11,12,13],[14,15,16]])\n",
    "c = np.array([[17,18,19],[20,21,22]])\n",
    "\n",
    "d = np.array([a,b,c])\n",
    "d"
   ]
  },
  {
   "cell_type": "code",
   "execution_count": 8,
   "id": "6c4d14db",
   "metadata": {},
   "outputs": [
    {
     "data": {
      "text/plain": [
       "(array([[ 1,  2,  3],\n",
       "        [ 4,  5,  6],\n",
       "        [17, 18, 19],\n",
       "        [20, 21, 22]]),\n",
       " array([[ 1,  2,  3, 17, 18, 19],\n",
       "        [ 4,  5,  6, 20, 21, 22]]))"
      ]
     },
     "execution_count": 8,
     "metadata": {},
     "output_type": "execute_result"
    }
   ],
   "source": [
    "import numpy as np\n",
    "\n",
    "a = np.array([[1,2,3],[4,5,6]])\n",
    "b = np.array([[11,12,13],[14,15,16]])\n",
    "c = np.array([[17,18,19],[20,21,22]])\n",
    "\n",
    "np.vstack([a,c]),np.hstack([a,c])"
   ]
  }
 ],
 "metadata": {
  "kernelspec": {
   "display_name": "Python 3 (ipykernel)",
   "language": "python",
   "name": "python3"
  },
  "language_info": {
   "codemirror_mode": {
    "name": "ipython",
    "version": 3
   },
   "file_extension": ".py",
   "mimetype": "text/x-python",
   "name": "python",
   "nbconvert_exporter": "python",
   "pygments_lexer": "ipython3",
   "version": "3.11.5"
  }
 },
 "nbformat": 4,
 "nbformat_minor": 5
}
