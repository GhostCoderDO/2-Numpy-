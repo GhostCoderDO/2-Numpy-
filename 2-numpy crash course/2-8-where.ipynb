{
 "cells": [
  {
   "cell_type": "code",
   "execution_count": 18,
   "id": "e06b90fa",
   "metadata": {},
   "outputs": [
    {
     "data": {
      "text/plain": [
       "(array([1, 1, 1, 1], dtype=int64), array([0, 1, 2, 3], dtype=int64))"
      ]
     },
     "execution_count": 18,
     "metadata": {},
     "output_type": "execute_result"
    }
   ],
   "source": [
    "import numpy as np\n",
    "\n",
    "a = np.array([[1,2,3,4],[51,26,37,48]])\n",
    "np.where(a > 10)\n",
    "\n",
    "b = np.where(a > 10)\n",
    "a[b]"
   ]
  },
  {
   "cell_type": "code",
   "execution_count": 29,
   "id": "4c49b164",
   "metadata": {},
   "outputs": [
    {
     "data": {
      "text/plain": [
       "array([43, 76, 35])"
      ]
     },
     "execution_count": 29,
     "metadata": {},
     "output_type": "execute_result"
    }
   ],
   "source": [
    "import numpy as np\n",
    "\n",
    "a = np.array([[[11,101,12,43],[10,17,20,99]],[[1,10,98,100],[82,89,76,35]]])\n",
    "index = np.where((a < 80 ) & ( a > 30 ))\n",
    "a[index]"
   ]
  },
  {
   "cell_type": "code",
   "execution_count": 37,
   "id": "63fb134d",
   "metadata": {},
   "outputs": [
    {
     "data": {
      "text/plain": [
       "array([35])"
      ]
     },
     "execution_count": 37,
     "metadata": {},
     "output_type": "execute_result"
    }
   ],
   "source": [
    "import numpy as np\n",
    "\n",
    "a = np.array([[[11,101,12,43],[10,17,20,99]],[[1,10,98,100],[82,89,76,35]]])\n",
    "index = np.where(a == 35)\n",
    "a[index]\n",
    "\n"
   ]
  },
  {
   "cell_type": "code",
   "execution_count": 42,
   "id": "f640b3d5",
   "metadata": {},
   "outputs": [
    {
     "data": {
      "text/plain": [
       "array([[[ 11, 101,  12,   0],\n",
       "        [ 10,  17,  20,  99]],\n",
       "\n",
       "       [[  1,  10,  98, 100],\n",
       "        [ 82,  89,   0,   0]]])"
      ]
     },
     "execution_count": 42,
     "metadata": {},
     "output_type": "execute_result"
    }
   ],
   "source": [
    "import numpy as np\n",
    "\n",
    "a = np.array([[[11,101,12,43],[10,17,20,99]],[[1,10,98,100],[82,89,76,35]]])\n",
    "index = np.where((a < 80 ) & ( a > 30 ))\n",
    "a[index] = 0\n",
    "a"
   ]
  },
  {
   "cell_type": "code",
   "execution_count": 45,
   "id": "7fbdf431",
   "metadata": {},
   "outputs": [
    {
     "data": {
      "text/plain": [
       "(101, 1, 1, 8)"
      ]
     },
     "execution_count": 45,
     "metadata": {},
     "output_type": "execute_result"
    }
   ],
   "source": [
    "import numpy as np\n",
    "\n",
    "a = np.array([[[11,101,12,43],[10,17,20,99]],[[1,10,98,100],[82,89,76,35]]])\n",
    "a.max(), a.argmax(), a.min(), a.argmin()\n",
    "# argmax() flattens the array in 1-d and then gives index of max\\min value\n"
   ]
  }
 ],
 "metadata": {
  "kernelspec": {
   "display_name": "Python 3 (ipykernel)",
   "language": "python",
   "name": "python3"
  },
  "language_info": {
   "codemirror_mode": {
    "name": "ipython",
    "version": 3
   },
   "file_extension": ".py",
   "mimetype": "text/x-python",
   "name": "python",
   "nbconvert_exporter": "python",
   "pygments_lexer": "ipython3",
   "version": "3.11.5"
  }
 },
 "nbformat": 4,
 "nbformat_minor": 5
}
