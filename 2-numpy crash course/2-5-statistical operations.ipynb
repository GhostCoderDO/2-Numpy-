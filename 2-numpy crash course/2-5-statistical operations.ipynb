{
 "cells": [
  {
   "cell_type": "code",
   "execution_count": 1,
   "id": "ccfaacab",
   "metadata": {},
   "outputs": [
    {
     "name": "stdout",
     "output_type": "stream",
     "text": [
      "Mean: 4.0\n",
      "Variance: 4.0\n",
      "Standard Deviation: 2.0\n",
      "Median: 4.0\n"
     ]
    }
   ],
   "source": [
    "import numpy as np\n",
    "\n",
    "# Creating an array\n",
    "a = np.array([1, 2, 3, 4, 5, 6, 7])\n",
    "\n",
    "# Calculating mean\n",
    "mean = a.mean()\n",
    "\n",
    "# Calculating variance\n",
    "variance = a.var()\n",
    "\n",
    "# Calculating standard deviation\n",
    "std_dev = a.std()\n",
    "\n",
    "# Calculating median\n",
    "median = np.median(a)\n",
    "\n",
    "# Printing the results\n",
    "print(\"Mean:\", mean)\n",
    "print(\"Variance:\", variance)\n",
    "print(\"Standard Deviation:\", std_dev)\n",
    "print(\"Median:\", median)\n"
   ]
  },
  {
   "cell_type": "code",
   "execution_count": 2,
   "id": "b54e1951",
   "metadata": {},
   "outputs": [
    {
     "name": "stdout",
     "output_type": "stream",
     "text": [
      "Mean: 5.5\n",
      "Variance: 8.25\n",
      "Standard Deviation: 2.8722813232690143\n",
      "Median: 5.5\n"
     ]
    }
   ],
   "source": [
    "import numpy as np\n",
    "\n",
    "# Creating a 2D array\n",
    "a = np.array([[1, 2, 3, 4, 5], [6, 7, 8, 9, 10]])\n",
    "\n",
    "# Calculating mean\n",
    "mean = a.mean()\n",
    "\n",
    "# Calculating variance\n",
    "variance = a.var()\n",
    "\n",
    "# Calculating standard deviation\n",
    "std_dev = a.std()\n",
    "\n",
    "# Calculating median\n",
    "median = np.median(a)\n",
    "\n",
    "# Printing the results\n",
    "print(\"Mean:\", mean)\n",
    "print(\"Variance:\", variance)\n",
    "print(\"Standard Deviation:\", std_dev)\n",
    "print(\"Median:\", median)\n"
   ]
  }
 ],
 "metadata": {
  "kernelspec": {
   "display_name": "Python 3 (ipykernel)",
   "language": "python",
   "name": "python3"
  },
  "language_info": {
   "codemirror_mode": {
    "name": "ipython",
    "version": 3
   },
   "file_extension": ".py",
   "mimetype": "text/x-python",
   "name": "python",
   "nbconvert_exporter": "python",
   "pygments_lexer": "ipython3",
   "version": "3.11.5"
  }
 },
 "nbformat": 4,
 "nbformat_minor": 5
}
