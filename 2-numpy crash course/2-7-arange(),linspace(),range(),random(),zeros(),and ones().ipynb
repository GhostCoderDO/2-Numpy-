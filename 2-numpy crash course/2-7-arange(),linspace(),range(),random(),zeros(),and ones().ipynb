{
 "cells": [
  {
   "cell_type": "markdown",
   "id": "24f169a1",
   "metadata": {},
   "source": [
    "###\n",
    "## Arange:\n",
    "###"
   ]
  },
  {
   "cell_type": "code",
   "execution_count": 1,
   "id": "423cef99",
   "metadata": {},
   "outputs": [
    {
     "data": {
      "text/plain": [
       "array([1., 5., 9.])"
      ]
     },
     "execution_count": 1,
     "metadata": {},
     "output_type": "execute_result"
    }
   ],
   "source": [
    "import numpy as np\n",
    "\n",
    "a = np.arange(1,11)\n",
    "a\n",
    "\n",
    "b = np.arange(1,11,2)\n",
    "b\n",
    "\n",
    "c = np.arange(1,11,3)\n",
    "c\n",
    "\n",
    "d = np.arange(1,11,4, dtype = 'float')\n",
    "d"
   ]
  },
  {
   "cell_type": "markdown",
   "id": "84844565",
   "metadata": {},
   "source": [
    "###\n",
    "## linspace():\n",
    "###"
   ]
  },
  {
   "cell_type": "code",
   "execution_count": 2,
   "id": "caef4a84",
   "metadata": {},
   "outputs": [
    {
     "data": {
      "text/plain": [
       "array([ 1.,  5.,  9., 13., 17.])"
      ]
     },
     "execution_count": 2,
     "metadata": {},
     "output_type": "execute_result"
    }
   ],
   "source": [
    "import numpy as np\n",
    "\n",
    "np.linspace(1,15,5)\n",
    "np.linspace(1,10,6)\n",
    "np.arange(1,20,4, dtype = 'float')\n"
   ]
  },
  {
   "cell_type": "markdown",
   "id": "42fe3d7b",
   "metadata": {},
   "source": [
    "###\n",
    "## random():\n",
    "###"
   ]
  },
  {
   "cell_type": "code",
   "execution_count": 3,
   "id": "fef545d4",
   "metadata": {},
   "outputs": [
    {
     "data": {
      "text/plain": [
       "array([3.11944778, 5.46694806, 3.96341082, 2.68719388, 1.68575453,\n",
       "       5.76608651, 2.30734089, 9.25524278])"
      ]
     },
     "execution_count": 3,
     "metadata": {},
     "output_type": "execute_result"
    }
   ],
   "source": [
    "\n",
    "import numpy as np\n",
    "from numpy import random\n",
    "\n",
    "random.randint(1,10)\n",
    "random.randint(1,10,8)\n",
    "random.uniform(1,10,8)"
   ]
  },
  {
   "cell_type": "markdown",
   "id": "7332b263",
   "metadata": {},
   "source": [
    "###\n",
    "## range:\n",
    "###"
   ]
  },
  {
   "cell_type": "code",
   "execution_count": 4,
   "id": "063d48d2",
   "metadata": {},
   "outputs": [
    {
     "data": {
      "text/plain": [
       "array([b'1', b'2', b'3', b'4', b'5', b'6', b'7', b'8', b'9'], dtype='|S1')"
      ]
     },
     "execution_count": 4,
     "metadata": {},
     "output_type": "execute_result"
    }
   ],
   "source": [
    "\n",
    "import numpy as np\n",
    "\n",
    "np.array(range(1,10))\n",
    "np.array(range(1,10), dtype = 'float')\n",
    "np.array(range(1,10), dtype = 'S')\n",
    "\n"
   ]
  },
  {
   "cell_type": "markdown",
   "id": "53072152",
   "metadata": {},
   "source": [
    "###\n",
    "## zeros:\n",
    "###"
   ]
  },
  {
   "cell_type": "code",
   "execution_count": 5,
   "id": "0cb105e6",
   "metadata": {},
   "outputs": [
    {
     "data": {
      "text/plain": [
       "array([[[0., 0., 0.],\n",
       "        [0., 0., 0.],\n",
       "        [0., 0., 0.]],\n",
       "\n",
       "       [[0., 0., 0.],\n",
       "        [0., 0., 0.],\n",
       "        [0., 0., 0.]]])"
      ]
     },
     "execution_count": 5,
     "metadata": {},
     "output_type": "execute_result"
    }
   ],
   "source": [
    "\n",
    "import numpy as np\n",
    "\n",
    "np.zeros([2,3])\n",
    "np.zeros([4,3])\n",
    "np.zeros([2,3,3])\n"
   ]
  },
  {
   "cell_type": "markdown",
   "id": "a008a2c0",
   "metadata": {},
   "source": [
    "###\n",
    "## ones:\n",
    "###"
   ]
  },
  {
   "cell_type": "code",
   "execution_count": 6,
   "id": "9a6c625e",
   "metadata": {},
   "outputs": [
    {
     "data": {
      "text/plain": [
       "array([[[1., 1., 1.],\n",
       "        [1., 1., 1.],\n",
       "        [1., 1., 1.]],\n",
       "\n",
       "       [[1., 1., 1.],\n",
       "        [1., 1., 1.],\n",
       "        [1., 1., 1.]]])"
      ]
     },
     "execution_count": 6,
     "metadata": {},
     "output_type": "execute_result"
    }
   ],
   "source": [
    "\n",
    "import numpy as np\n",
    "\n",
    "np.ones([2,3])\n",
    "np.ones([4,3])\n",
    "np.ones([2,3,3])\n"
   ]
  },
  {
   "cell_type": "markdown",
   "id": "5a476605",
   "metadata": {},
   "source": [
    "###\n",
    "## tile:\n",
    "###"
   ]
  },
  {
   "cell_type": "code",
   "execution_count": 9,
   "id": "f8b3ea35",
   "metadata": {},
   "outputs": [
    {
     "data": {
      "text/plain": [
       "array([11, 17, 20, 11, 17, 20, 11, 17, 20, 11, 17, 20])"
      ]
     },
     "execution_count": 9,
     "metadata": {},
     "output_type": "execute_result"
    }
   ],
   "source": [
    "\n",
    "import numpy as np\n",
    "\n",
    "np.tile([1,2,3], 2)\n",
    "np.tile([11,17,20], 4)\n"
   ]
  },
  {
   "cell_type": "markdown",
   "id": "b2e72525",
   "metadata": {},
   "source": [
    "###\n",
    "## repeat:\n",
    "###"
   ]
  },
  {
   "cell_type": "code",
   "execution_count": 10,
   "id": "7e6d0d4b",
   "metadata": {},
   "outputs": [
    {
     "data": {
      "text/plain": [
       "array([17, 17, 11, 11, 29, 29, 32, 32, 43, 43, 82, 82,  9,  9])"
      ]
     },
     "execution_count": 10,
     "metadata": {},
     "output_type": "execute_result"
    }
   ],
   "source": [
    "np.repeat([9,10,11,12],3)\n",
    "np.repeat([17,11,29,32,43,82,9],2)"
   ]
  }
 ],
 "metadata": {
  "kernelspec": {
   "display_name": "Python 3 (ipykernel)",
   "language": "python",
   "name": "python3"
  },
  "language_info": {
   "codemirror_mode": {
    "name": "ipython",
    "version": 3
   },
   "file_extension": ".py",
   "mimetype": "text/x-python",
   "name": "python",
   "nbconvert_exporter": "python",
   "pygments_lexer": "ipython3",
   "version": "3.11.5"
  }
 },
 "nbformat": 4,
 "nbformat_minor": 5
}
