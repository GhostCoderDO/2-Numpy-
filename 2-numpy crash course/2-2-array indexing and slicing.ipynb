{
 "cells": [
  {
   "cell_type": "code",
   "execution_count": 2,
   "id": "a1a6d0b3",
   "metadata": {},
   "outputs": [
    {
     "data": {
      "text/plain": [
       "array([1, 2, 3, 4])"
      ]
     },
     "execution_count": 2,
     "metadata": {},
     "output_type": "execute_result"
    }
   ],
   "source": [
    "# 1d-array\n",
    "\n",
    "import numpy as np\n",
    "\n",
    "a = np.array([1,2,3,4])\n",
    "a"
   ]
  },
  {
   "cell_type": "code",
   "execution_count": 3,
   "id": "c95e760e",
   "metadata": {},
   "outputs": [
    {
     "data": {
      "text/plain": [
       "(1, 4, 3, array([1, 2]), array([3, 4]), array([1, 2, 3]))"
      ]
     },
     "execution_count": 3,
     "metadata": {},
     "output_type": "execute_result"
    }
   ],
   "source": [
    "a[0], a[-1], a[-2], a[0:2], a[2:], a[:3]"
   ]
  },
  {
   "cell_type": "code",
   "execution_count": 8,
   "id": "a1784dc4",
   "metadata": {},
   "outputs": [
    {
     "data": {
      "text/plain": [
       "array([[1, 2, 3, 4],\n",
       "       [5, 6, 7, 8]])"
      ]
     },
     "execution_count": 8,
     "metadata": {},
     "output_type": "execute_result"
    }
   ],
   "source": [
    "# 2d-array\n",
    "\n",
    "import numpy as np\n",
    "\n",
    "a = np.array([[1,2,3,4],[5,6,7,8]])\n",
    "a"
   ]
  },
  {
   "cell_type": "code",
   "execution_count": 9,
   "id": "dba55175",
   "metadata": {},
   "outputs": [
    {
     "data": {
      "text/plain": [
       "(2, 3, array([5, 6]))"
      ]
     },
     "execution_count": 9,
     "metadata": {},
     "output_type": "execute_result"
    }
   ],
   "source": [
    "a[1]\n",
    "a[0]\n",
    "a[0,1], a[0,-2], a[1,0: 2]"
   ]
  },
  {
   "cell_type": "code",
   "execution_count": 11,
   "id": "8ae0725d",
   "metadata": {},
   "outputs": [
    {
     "data": {
      "text/plain": [
       "(array([1, 2]), array([10, 11]))"
      ]
     },
     "execution_count": 11,
     "metadata": {},
     "output_type": "execute_result"
    }
   ],
   "source": [
    "# 3d-array\n",
    "\n",
    "a = np.array([[[1,2,3,4],[5,6,7,8]],[[9,10,11,12],[13,14,15,16]]])\n",
    "a[0]\n",
    "a[0,0]\n",
    "a[0,0,0: 2], a[1,0,1:3]"
   ]
  },
  {
   "cell_type": "markdown",
   "id": "5ce3c658",
   "metadata": {},
   "source": [
    "###\n",
    "## Creating Arrays:\n",
    "###"
   ]
  },
  {
   "cell_type": "code",
   "execution_count": 14,
   "id": "85f3f845",
   "metadata": {},
   "outputs": [],
   "source": [
    "import numpy as np\n",
    "\n",
    "# 1D array\n",
    "arr = np.array([10, 20, 30, 40, 50, 60, 70, 80, 90])\n",
    "\n",
    "# 2D array\n",
    "arr_2d = np.array([[1, 2, 3, 4], [5, 6, 7, 8], [9, 10, 11, 12]])\n"
   ]
  },
  {
   "cell_type": "markdown",
   "id": "e5823280",
   "metadata": {},
   "source": [
    "###\n",
    "## Advanced Slicing on 1D Arrays:\n",
    "###"
   ]
  },
  {
   "cell_type": "code",
   "execution_count": 19,
   "id": "442ae022",
   "metadata": {},
   "outputs": [
    {
     "name": "stdout",
     "output_type": "stream",
     "text": [
      "[10 20 30 40 50 60 70 80 90]\n",
      "Slice from index 2 to second last element: [30 40 50 60 70 80]\n",
      "Every third element: [10 40 70]\n",
      "Last three elements: [70 80 90]\n"
     ]
    }
   ],
   "source": [
    "print(arr)\n",
    "\n",
    "# Slicing from index 2 to the second last element\n",
    "print(\"Slice from index 2 to second last element:\", arr[2:-1])\n",
    "\n",
    "# Slicing with a step of 3\n",
    "print(\"Every third element:\", arr[::3])\n",
    "\n",
    "# Slicing the last three elements\n",
    "print(\"Last three elements:\", arr[-3:])\n"
   ]
  },
  {
   "cell_type": "markdown",
   "id": "20014b2b",
   "metadata": {},
   "source": [
    "###\n",
    "## Advanced Slicing on 2D Arrays:\n",
    "###"
   ]
  },
  {
   "cell_type": "code",
   "execution_count": 23,
   "id": "e35aec9b",
   "metadata": {},
   "outputs": [
    {
     "name": "stdout",
     "output_type": "stream",
     "text": [
      "[[ 1  2  3  4]\n",
      " [ 5  6  7  8]\n",
      " [ 9 10 11 12]]\n",
      "\n",
      "Second row: [5 6 7 8]\n",
      "\n",
      "Second column: [ 2  6 10]\n",
      "\n",
      "Subarray (rows 1 and 2, columns 2 and 3):\n",
      " [[ 7  8]\n",
      " [11 12]]\n",
      "\n",
      "Element at (-1, -2): 11\n",
      "\n",
      "Reversed rows:\n",
      " [[ 9 10 11 12]\n",
      " [ 5  6  7  8]\n",
      " [ 1  2  3  4]]\n",
      "\n",
      "Reversed columns:\n",
      " [[ 4  3  2  1]\n",
      " [ 8  7  6  5]\n",
      " [12 11 10  9]]\n"
     ]
    }
   ],
   "source": [
    "print(arr_2d)\n",
    "\n",
    "# Accessing the entire second row\n",
    "print(\"\\nSecond row:\", arr_2d[1, :])   # arr_2d[1st row, start:end]\n",
    "\n",
    "# Accessing the entire second column\n",
    "print(\"\\nSecond column:\", arr_2d[:, 1])\n",
    "\n",
    "# Accessing a subarray (rows 1 and 2, columns 2 and 3)\n",
    "print(\"\\nSubarray (rows 1 and 2, columns 2 and 3):\\n\", arr_2d[1:3, 2:4])\n",
    "\n",
    "# Accessing elements using negative indices\n",
    "print(\"\\nElement at (-1, -2):\", arr_2d[-1, -2])\n",
    "\n",
    "# Reversing the order of rows\n",
    "print(\"\\nReversed rows:\\n\", arr_2d[::-1, :])\n",
    "\n",
    "# Reversing the order of columns\n",
    "print(\"\\nReversed columns:\\n\", arr_2d[:, ::-1])\n"
   ]
  },
  {
   "cell_type": "markdown",
   "id": "2f91b876",
   "metadata": {},
   "source": [
    "###\n",
    "## Boolean Indexing:\n",
    "###"
   ]
  },
  {
   "cell_type": "code",
   "execution_count": 24,
   "id": "f0585e16",
   "metadata": {},
   "outputs": [
    {
     "name": "stdout",
     "output_type": "stream",
     "text": [
      "Elements greater than 50: [60 70 80 90]\n",
      "Even elements: [10 20 30 40 50 60 70 80 90]\n",
      "Elements greater than 5:\n",
      " [ 6  7  8  9 10 11 12]\n"
     ]
    }
   ],
   "source": [
    "# Creating an array\n",
    "arr = np.array([10, 20, 30, 40, 50, 60, 70, 80, 90])\n",
    "\n",
    "# Boolean indexing to select elements greater than 50\n",
    "print(\"Elements greater than 50:\", arr[arr > 50])\n",
    "\n",
    "# Boolean indexing to select even elements\n",
    "print(\"Even elements:\", arr[arr % 2 == 0])\n",
    "\n",
    "# Boolean indexing in 2D array to select elements greater than 5\n",
    "arr_2d = np.array([[1, 2, 3, 4], [5, 6, 7, 8], [9, 10, 11, 12]])\n",
    "print(\"Elements greater than 5:\\n\", arr_2d[arr_2d > 5])\n"
   ]
  },
  {
   "cell_type": "markdown",
   "id": "7ab08d6d",
   "metadata": {},
   "source": [
    "###\n",
    "## Fancy Indexing:\n",
    "###"
   ]
  },
  {
   "cell_type": "code",
   "execution_count": 26,
   "id": "d056149f",
   "metadata": {},
   "outputs": [
    {
     "name": "stdout",
     "output_type": "stream",
     "text": [
      "[10 20 30 40 50 60 70 80 90]\n",
      "Elements at indices 0, 2, 4, 6: [10 30 50 70]\n",
      "Elements at (0,1) and (2,3): [ 2 12]\n"
     ]
    }
   ],
   "source": [
    "# Creating an array\n",
    "arr = np.array([10, 20, 30, 40, 50, 60, 70, 80, 90])\n",
    "print(arr)\n",
    "\n",
    "# Accessing elements at specific indices\n",
    "indices = [0, 2, 4, 6]\n",
    "print(\"Elements at indices 0, 2, 4, 6:\", arr[indices])\n",
    "\n",
    "# Using fancy indexing in a 2D array\n",
    "arr_2d = np.array([[1, 2, 3, 4], [5, 6, 7, 8], [9, 10, 11, 12]])\n",
    "row_indices = [0, 2]\n",
    "col_indices = [1, 3]\n",
    "print(\"Elements at (0,1) and (2,3):\", arr_2d[row_indices, col_indices])\n"
   ]
  },
  {
   "cell_type": "markdown",
   "id": "140a3832",
   "metadata": {},
   "source": [
    "###\n",
    "## Combining Indexing and Slicing:\n",
    "###"
   ]
  },
  {
   "cell_type": "code",
   "execution_count": 27,
   "id": "337eedaf",
   "metadata": {},
   "outputs": [
    {
     "name": "stdout",
     "output_type": "stream",
     "text": [
      "Elements in the first two rows and the last two columns:\n",
      " [[3 4]\n",
      " [7 8]]\n",
      "Elements at specific rows and columns:\n",
      " [[ 2  4]\n",
      " [10 12]]\n"
     ]
    }
   ],
   "source": [
    "# Creating a 2D array\n",
    "arr_2d = np.array([[1, 2, 3, 4], [5, 6, 7, 8], [9, 10, 11, 12]])\n",
    "\n",
    "# Accessing specific elements with slicing\n",
    "print(\"Elements in the first two rows and the last two columns:\\n\", arr_2d[:2, -2:])\n",
    "\n",
    "# Accessing specific rows and columns\n",
    "rows = [0, 2]\n",
    "cols = [1, 3]\n",
    "print(\"Elements at specific rows and columns:\\n\", arr_2d[rows][:, cols])\n"
   ]
  },
  {
   "cell_type": "markdown",
   "id": "91d8d428",
   "metadata": {},
   "source": []
  }
 ],
 "metadata": {
  "kernelspec": {
   "display_name": "Python 3 (ipykernel)",
   "language": "python",
   "name": "python3"
  },
  "language_info": {
   "codemirror_mode": {
    "name": "ipython",
    "version": 3
   },
   "file_extension": ".py",
   "mimetype": "text/x-python",
   "name": "python",
   "nbconvert_exporter": "python",
   "pygments_lexer": "ipython3",
   "version": "3.11.5"
  }
 },
 "nbformat": 4,
 "nbformat_minor": 5
}
