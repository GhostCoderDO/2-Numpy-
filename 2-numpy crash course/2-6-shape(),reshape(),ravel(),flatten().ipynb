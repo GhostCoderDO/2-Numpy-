{
 "cells": [
  {
   "cell_type": "code",
   "execution_count": 23,
   "id": "78f3ca26",
   "metadata": {},
   "outputs": [
    {
     "data": {
      "text/plain": [
       "array([ 1,  2,  3,  4,  5,  6,  7,  8,  9, 10, 11, 12, 13, 14, 15, 16])"
      ]
     },
     "execution_count": 23,
     "metadata": {},
     "output_type": "execute_result"
    }
   ],
   "source": [
    "# shape,reshape\n",
    "\n",
    "import numpy as np\n",
    "\n",
    "a = np.array([[[1,2,3,4],[5,6,7,8]],[[9,10,11,12],[13,14,15,16]]])\n",
    "a.ndim,a.shape\n",
    "\n",
    "a.reshape(1,16)\n",
    "a.reshape(2,8)\n",
    "a.reshape(2,2,4)\n",
    "a.reshape(4,1,4)\n",
    "a.reshape(1,4,4)\n"
   ]
  },
  {
   "cell_type": "markdown",
   "id": "cfe84d51",
   "metadata": {},
   "source": [
    "######\n",
    "###### Ravel:\n",
    "######  This method returns a flattened 1D array. Unlike flatten, ravel returns a reference to the original array whenever possible. If the returned array is modified, it may affect the original array. \n",
    "######"
   ]
  },
  {
   "cell_type": "code",
   "execution_count": 47,
   "id": "4dab414f",
   "metadata": {},
   "outputs": [
    {
     "data": {
      "text/plain": [
       "(array([ 2,  2,  3,  4,  5,  6,  7,  8,  9, 10, 11, 12, 13, 14, 15, 16]),\n",
       " array([[[ 2,  2,  3,  4],\n",
       "         [ 5,  6,  7,  8]],\n",
       " \n",
       "        [[ 9, 10, 11, 12],\n",
       "         [13, 14, 15, 16]]]))"
      ]
     },
     "execution_count": 47,
     "metadata": {},
     "output_type": "execute_result"
    }
   ],
   "source": [
    "# ravel\n",
    "\n",
    "import numpy as np\n",
    "\n",
    "a = np.array([[[1,2,3,4],[5,6,7,8]],[[9,10,11,12],[13,14,15,16]]])\n",
    "a.ndim,a.shape\n",
    "\n",
    "a.reshape(1,16)\n",
    "a.reshape(2,8)\n",
    "a.reshape(2,2,4)\n",
    "a.reshape(4,1,4)\n",
    "b = a.reshape(1,4,4)\n",
    "\n",
    "b, b.ravel()\n",
    "\n",
    "# proof\n",
    "\n",
    "c = a.ravel()\n",
    "c[0] = 2\n",
    "c, a"
   ]
  },
  {
   "cell_type": "markdown",
   "id": "5fc17550",
   "metadata": {},
   "source": [
    "######\n",
    "###### Flatten:\n",
    "###### This method returns a copy of the array collapsed into one dimension. It always returns a flat copy of the original array, regardless of its original shape\n",
    "######"
   ]
  },
  {
   "cell_type": "code",
   "execution_count": 45,
   "id": "832e1983",
   "metadata": {},
   "outputs": [
    {
     "data": {
      "text/plain": [
       "(array([ 2,  2,  3,  4,  5,  6,  7,  8,  9, 10, 11, 12, 13, 14, 15, 16]),\n",
       " array([[[ 1,  2,  3,  4],\n",
       "         [ 5,  6,  7,  8]],\n",
       " \n",
       "        [[ 9, 10, 11, 12],\n",
       "         [13, 14, 15, 16]]]))"
      ]
     },
     "execution_count": 45,
     "metadata": {},
     "output_type": "execute_result"
    }
   ],
   "source": [
    "# flatten\n",
    "\n",
    "import numpy as np\n",
    "\n",
    "a = np.array([[[1,2,3,4],[5,6,7,8]],[[9,10,11,12],[13,14,15,16]]])\n",
    "a.ndim,a.shape\n",
    "\n",
    "a.reshape(1,16)\n",
    "a.reshape(2,8)\n",
    "a.reshape(2,2,4)\n",
    "a.reshape(4,1,4)\n",
    "b = a.reshape(1,4,4)\n",
    "\n",
    "b, a.flatten()\n",
    "\n",
    "# proof\n",
    "\n",
    "c = a.flatten()\n",
    "c[0] = 2\n",
    "c, a"
   ]
  },
  {
   "cell_type": "markdown",
   "id": "5bc6ec9e",
   "metadata": {},
   "source": [
    "######\n",
    "#### In summary, reshape is used to change the shape of an array, flatten returns a copy of the array collapsed into one dimension, and ravel returns a flattened 1D array, often as a reference to the original array.\n",
    "######"
   ]
  }
 ],
 "metadata": {
  "kernelspec": {
   "display_name": "Python 3 (ipykernel)",
   "language": "python",
   "name": "python3"
  },
  "language_info": {
   "codemirror_mode": {
    "name": "ipython",
    "version": 3
   },
   "file_extension": ".py",
   "mimetype": "text/x-python",
   "name": "python",
   "nbconvert_exporter": "python",
   "pygments_lexer": "ipython3",
   "version": "3.11.5"
  }
 },
 "nbformat": 4,
 "nbformat_minor": 5
}
