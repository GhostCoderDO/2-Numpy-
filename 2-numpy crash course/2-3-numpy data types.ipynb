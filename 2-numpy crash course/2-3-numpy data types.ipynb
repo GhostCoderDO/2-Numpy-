{
 "cells": [
  {
   "cell_type": "markdown",
   "id": "79cb2d87",
   "metadata": {},
   "source": [
    "###### Data Types:\n",
    "###### 1 - integer\n",
    "###### 2 -  boolean\n",
    "###### 3 - unsigned integer\n",
    "###### 4 - float\n",
    "###### 5 - complex float\n",
    "###### 6 - timedelta\n",
    "###### 7 - datatime\n",
    "###### 8 - object\n",
    "###### 9 - string\n",
    "###### 10 - unicode string\n",
    "###### 11 - fixed chunk of memory for other types ( void )\n",
    "######\n"
   ]
  },
  {
   "cell_type": "code",
   "execution_count": 6,
   "id": "e9b203db",
   "metadata": {},
   "outputs": [
    {
     "data": {
      "text/plain": [
       "(array([1., 2., 3., 4.]), dtype('float64'))"
      ]
     },
     "execution_count": 6,
     "metadata": {},
     "output_type": "execute_result"
    }
   ],
   "source": [
    "import numpy as np\n",
    "\n",
    "a = np.array([1,2,3,4.0])\n",
    "a, a.dtype"
   ]
  },
  {
   "cell_type": "code",
   "execution_count": 40,
   "id": "3e66ddca",
   "metadata": {},
   "outputs": [
    {
     "data": {
      "text/plain": [
       "(array([b'1', b'2', b'3'], dtype='|S1'), dtype('S1'))"
      ]
     },
     "execution_count": 40,
     "metadata": {},
     "output_type": "execute_result"
    }
   ],
   "source": [
    "# converting to string\n",
    "\n",
    "import numpy as np\n",
    "\n",
    "a = np.array([1,2,3], dtype = 'S')\n",
    "a, a.dtype"
   ]
  },
  {
   "cell_type": "code",
   "execution_count": 11,
   "id": "9c805036",
   "metadata": {},
   "outputs": [
    {
     "data": {
      "text/plain": [
       "array([b'apple', b'banana'], dtype='|S6')"
      ]
     },
     "execution_count": 11,
     "metadata": {},
     "output_type": "execute_result"
    }
   ],
   "source": [
    "# converting to string\n",
    "\n",
    "import numpy as np\n",
    "\n",
    "a = np.array(['apple','banana'], dtype = 'S')\n",
    "a"
   ]
  },
  {
   "cell_type": "code",
   "execution_count": 19,
   "id": "9b2781a4",
   "metadata": {},
   "outputs": [
    {
     "data": {
      "text/plain": [
       "dtype('int32')"
      ]
     },
     "execution_count": 19,
     "metadata": {},
     "output_type": "execute_result"
    }
   ],
   "source": [
    "# converting to integer\n",
    "\n",
    "import numpy as np\n",
    "\n",
    "a = np.array([[1.2,3,44,3.34],[11.11,11,1.1,1.11]], dtype = 'i')\n",
    "a.dtype"
   ]
  },
  {
   "cell_type": "code",
   "execution_count": 25,
   "id": "04afdec7",
   "metadata": {},
   "outputs": [
    {
     "data": {
      "text/plain": [
       "(array([20, 11], dtype=int32), dtype('int32'))"
      ]
     },
     "execution_count": 25,
     "metadata": {},
     "output_type": "execute_result"
    }
   ],
   "source": [
    "# converting to integer\n",
    "\n",
    "import numpy as np\n",
    "\n",
    "a = np.array(['20','11'], dtype = 'i')\n",
    "a, a.dtype"
   ]
  },
  {
   "cell_type": "code",
   "execution_count": 35,
   "id": "a3a41f79",
   "metadata": {},
   "outputs": [
    {
     "data": {
      "text/plain": [
       "(array([20, 11], dtype=int32), dtype('int32'))"
      ]
     },
     "execution_count": 35,
     "metadata": {},
     "output_type": "execute_result"
    }
   ],
   "source": [
    "# converting to integer\n",
    "\n",
    "import numpy as np\n",
    "\n",
    "a = np.array(['20.234','11.987'], dtype = 'f')\n",
    "b = a.astype('i')\n",
    "b, b.dtype"
   ]
  },
  {
   "cell_type": "code",
   "execution_count": 28,
   "id": "c754e1f1",
   "metadata": {},
   "outputs": [
    {
     "data": {
      "text/plain": [
       "(array([20.1 , 11.29], dtype=float32), dtype('float32'))"
      ]
     },
     "execution_count": 28,
     "metadata": {},
     "output_type": "execute_result"
    }
   ],
   "source": [
    "# converting to float\n",
    "\n",
    "import numpy as np\n",
    "\n",
    "a = np.array(['20.10','11.29'], dtype = 'f')\n",
    "a, a.dtype"
   ]
  },
  {
   "cell_type": "code",
   "execution_count": 42,
   "id": "13264355",
   "metadata": {},
   "outputs": [
    {
     "data": {
      "text/plain": [
       "array([False,  True,  True, False,  True, False])"
      ]
     },
     "execution_count": 42,
     "metadata": {},
     "output_type": "execute_result"
    }
   ],
   "source": [
    "# converting to boolean\n",
    "\n",
    "a = np.array([0,1,1,0,1,0], dtype = 'bool')\n",
    "a"
   ]
  },
  {
   "cell_type": "code",
   "execution_count": 51,
   "id": "f585487e",
   "metadata": {},
   "outputs": [
    {
     "data": {
      "text/plain": [
       "(array([ 1,  1,  2,  4,  5, 11, 23, 31, 64]),\n",
       " array([-64, -31, -23, -11,  -5,  -4,  -2,  -1,  -1]))"
      ]
     },
     "execution_count": 51,
     "metadata": {},
     "output_type": "execute_result"
    }
   ],
   "source": [
    "# sorting\n",
    "\n",
    "a = np.array([1,23,4,5,64,1,2,31,11])\n",
    "np.sort(a), np.sort(-a)"
   ]
  }
 ],
 "metadata": {
  "kernelspec": {
   "display_name": "Python 3 (ipykernel)",
   "language": "python",
   "name": "python3"
  },
  "language_info": {
   "codemirror_mode": {
    "name": "ipython",
    "version": 3
   },
   "file_extension": ".py",
   "mimetype": "text/x-python",
   "name": "python",
   "nbconvert_exporter": "python",
   "pygments_lexer": "ipython3",
   "version": "3.11.5"
  }
 },
 "nbformat": 4,
 "nbformat_minor": 5
}
