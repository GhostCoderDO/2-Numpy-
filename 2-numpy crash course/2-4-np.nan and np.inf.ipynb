{
 "cells": [
  {
   "cell_type": "markdown",
   "id": "d97a2952",
   "metadata": {},
   "source": [
    "###\n",
    "## Creating Arrays with NaN Values:\n",
    "###"
   ]
  },
  {
   "cell_type": "code",
   "execution_count": 16,
   "id": "3e027187",
   "metadata": {},
   "outputs": [
    {
     "name": "stdout",
     "output_type": "stream",
     "text": [
      "Array with NaN: [ 1.  2. nan  4.  5.]\n",
      "2D Array with NaN:\n",
      " [[ 1.  2. nan]\n",
      " [ 4. nan  6.]\n",
      " [ 7.  8.  9.]]\n"
     ]
    }
   ],
   "source": [
    "import numpy as np\n",
    "\n",
    "# Creating a 1D array with NaN values\n",
    "arr = np.array([1, 2, np.nan, 4, 5])\n",
    "print(\"Array with NaN:\", arr)\n",
    "\n",
    "# Creating a 2D array with NaN values\n",
    "arr_2d = np.array([[1, 2, np.nan], [4, np.nan, 6], [7, 8, 9]])\n",
    "print(\"2D Array with NaN:\\n\", arr_2d)\n"
   ]
  },
  {
   "cell_type": "markdown",
   "id": "0e41b2c6",
   "metadata": {},
   "source": [
    "###\n",
    "## Identifying NaN Values:\n",
    "###"
   ]
  },
  {
   "cell_type": "code",
   "execution_count": 17,
   "id": "ea6f51bc",
   "metadata": {},
   "outputs": [
    {
     "name": "stdout",
     "output_type": "stream",
     "text": [
      "NaN mask for 1D array: [False False  True False False]\n",
      "NaN mask for 2D array:\n",
      " [[False False  True]\n",
      " [False  True False]\n",
      " [False False False]]\n"
     ]
    }
   ],
   "source": [
    "# Identifying NaN values in a 1D array\n",
    "nan_mask = np.isnan(arr)\n",
    "print(\"NaN mask for 1D array:\", nan_mask)\n",
    "\n",
    "# Identifying NaN values in a 2D array\n",
    "nan_mask_2d = np.isnan(arr_2d)\n",
    "print(\"NaN mask for 2D array:\\n\", nan_mask_2d)\n"
   ]
  },
  {
   "cell_type": "markdown",
   "id": "04e31c68",
   "metadata": {},
   "source": [
    "###\n",
    "## Replacing NaN Values:\n",
    "###"
   ]
  },
  {
   "cell_type": "code",
   "execution_count": 18,
   "id": "46bd0983",
   "metadata": {},
   "outputs": [
    {
     "name": "stdout",
     "output_type": "stream",
     "text": [
      "1D array with NaN replaced by 0: [1. 2. 0. 4. 5.]\n",
      "1D array with NaN replaced by mean: [1. 2. 3. 4. 5.]\n",
      "2D array with NaN replaced by 0:\n",
      " [[1. 2. 0.]\n",
      " [4. 0. 6.]\n",
      " [7. 8. 9.]]\n"
     ]
    }
   ],
   "source": [
    "# Replacing NaN values with zero in a 1D array\n",
    "arr_filled = np.nan_to_num(arr, nan=0.0)\n",
    "print(\"1D array with NaN replaced by 0:\", arr_filled)\n",
    "\n",
    "# Replacing NaN values with the mean of the array\n",
    "mean_value = np.nanmean(arr)\n",
    "arr_filled_mean = np.where(np.isnan(arr), mean_value, arr)\n",
    "print(\"1D array with NaN replaced by mean:\", arr_filled_mean)\n",
    "\n",
    "# Replacing NaN values in a 2D array\n",
    "arr_2d[np.isnan(arr_2d)] = 0\n",
    "print(\"2D array with NaN replaced by 0:\\n\", arr_2d)\n"
   ]
  },
  {
   "cell_type": "markdown",
   "id": "a6772e21",
   "metadata": {},
   "source": [
    "###\n",
    "## Removing NaN Values:\n",
    "###"
   ]
  },
  {
   "cell_type": "code",
   "execution_count": 13,
   "id": "219be141",
   "metadata": {},
   "outputs": [
    {
     "name": "stdout",
     "output_type": "stream",
     "text": [
      "1D array with NaN values removed: [1. 2. 4. 5.]\n",
      "2D array with rows containing NaN values removed:\n",
      " [[1. 2. 0.]\n",
      " [4. 0. 6.]\n",
      " [7. 8. 9.]]\n"
     ]
    }
   ],
   "source": [
    "# Removing NaN values from a 1D array\n",
    "arr_no_nan = arr[~np.isnan(arr)]\n",
    "print(\"1D array with NaN values removed:\", arr_no_nan)\n",
    "\n",
    "# Removing rows with NaN values from a 2D array\n",
    "arr_2d_no_nan = arr_2d[~np.isnan(arr_2d).any(axis=1)]\n",
    "print(\"2D array with rows containing NaN values removed:\\n\", arr_2d_no_nan)\n"
   ]
  },
  {
   "cell_type": "markdown",
   "id": "62b6ec3c",
   "metadata": {},
   "source": [
    "###\n",
    "## Calculating with NaN Values:\n",
    "###"
   ]
  },
  {
   "cell_type": "code",
   "execution_count": 14,
   "id": "66fa2f30",
   "metadata": {},
   "outputs": [
    {
     "name": "stdout",
     "output_type": "stream",
     "text": [
      "Mean ignoring NaN values: 3.0\n",
      "Sum ignoring NaN values: 12.0\n",
      "Max ignoring NaN values: 5.0\n"
     ]
    }
   ],
   "source": [
    "# Calculating the mean while ignoring NaN values\n",
    "mean = np.nanmean(arr)\n",
    "print(\"Mean ignoring NaN values:\", mean)\n",
    "\n",
    "# Calculating the sum while ignoring NaN values\n",
    "sum_val = np.nansum(arr)\n",
    "print(\"Sum ignoring NaN values:\", sum_val)\n",
    "\n",
    "# Calculating the max while ignoring NaN values\n",
    "max_val = np.nanmax(arr)\n",
    "print(\"Max ignoring NaN values:\", max_val)\n"
   ]
  }
 ],
 "metadata": {
  "kernelspec": {
   "display_name": "Python 3 (ipykernel)",
   "language": "python",
   "name": "python3"
  },
  "language_info": {
   "codemirror_mode": {
    "name": "ipython",
    "version": 3
   },
   "file_extension": ".py",
   "mimetype": "text/x-python",
   "name": "python",
   "nbconvert_exporter": "python",
   "pygments_lexer": "ipython3",
   "version": "3.11.5"
  }
 },
 "nbformat": 4,
 "nbformat_minor": 5
}
